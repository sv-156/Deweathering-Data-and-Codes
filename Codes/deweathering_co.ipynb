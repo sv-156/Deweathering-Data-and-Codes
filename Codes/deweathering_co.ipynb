{
  "cells": [
    {
      "cell_type": "code",
      "execution_count": null,
      "id": "0cb181df-0e00-4de0-91f1-a53eccc79d78",
      "metadata": {
        "id": "0cb181df-0e00-4de0-91f1-a53eccc79d78"
      },
      "outputs": [],
      "source": [
        "import pandas as pd\n",
        "import numpy as np\n",
        "from sklearn.model_selection import RandomizedSearchCV\n",
        "from sklearn.model_selection import GridSearchCV\n",
        "from sklearn.ensemble import HistGradientBoostingRegressor\n",
        "from sklearn.pipeline import Pipeline\n",
        "import matplotlib.pyplot as plt\n",
        "import statsmodels.formula.api as smf\n",
        "from datetime import timedelta\n",
        "import joblib\n",
        "from datetime import date\n",
        "import ruptures as rpt\n",
        "import matplotlib.dates as mdates\n",
        "from matplotlib.dates import DateFormatter\n",
        "from sklearn.ensemble import GradientBoostingRegressor\n",
        "from sklearn.model_selection import train_test_split\n",
        "from sklearn.metrics import mean_squared_error\n",
        "from sklearn.metrics import mean_absolute_error\n",
        "import warnings\n",
        "from scipy.stats import pearsonr\n",
        "import os\n",
        "from pathlib import Path\n",
        "from sklearn.model_selection import RepeatedKFold\n",
        "from datetime import datetime, timedelta"
      ]
    },
    {
      "cell_type": "code",
      "source": [
        "CWD  = os.path.dirname(os.path.realpath(\"./deweathering_co.ipynb\"))\n",
        "DIR = Path(CWD).parent\n",
        "DATA_SRC = DIR / ‘Data’\n"
      ],
      "metadata": {
        "id": "pxYL0yChoQ0q"
      },
      "id": "pxYL0yChoQ0q",
      "execution_count": null,
      "outputs": []
    },
    {
      "cell_type": "code",
      "execution_count": null,
      "id": "5872e6e2-f3c1-4a64-8268-5d850d7ec3ec",
      "metadata": {
        "id": "5872e6e2-f3c1-4a64-8268-5d850d7ec3ec"
      },
      "outputs": [],
      "source": [
        "co_data=pd.read_csv(DATA_SRC/ ‘CO_2018_2025.csv',index_col=0)"
      ]
    },
    {
      "cell_type": "code",
      "execution_count": null,
      "id": "7dfab53a-92a9-45a2-86ad-2361d55ae3b8",
      "metadata": {
        "id": "7dfab53a-92a9-45a2-86ad-2361d55ae3b8",
        "collapsed": true
      },
      "outputs": [],
      "source": [
        "co_data=co_data.dropna()"
      ]
    },
    {
      "cell_type": "code",
      "execution_count": null,
      "id": "d9c8f120-c5ad-48a9-9ce7-15becb29bd35",
      "metadata": {
        "id": "d9c8f120-c5ad-48a9-9ce7-15becb29bd35"
      },
      "outputs": [],
      "source": [
        "seed = np.random.RandomState(0)"
      ]
    },
    {
      "cell_type": "code",
      "execution_count": null,
      "id": "4130fde8-4784-4c3d-873e-ec3fcbdae69a",
      "metadata": {
        "id": "4130fde8-4784-4c3d-873e-ec3fcbdae69a"
      },
      "outputs": [],
      "source": [
        "columns = ['t2m','msl','blh','ssr','mtpr','tcc','wd','ws','rh','hour','day_julian','weekday','date_unix']"
      ]
    },
    {
      "cell_type": "code",
      "execution_count": null,
      "id": "7124613c-a05a-4f98-abc1-52418810c72f",
      "metadata": {
        "id": "7124613c-a05a-4f98-abc1-52418810c72f"
      },
      "outputs": [],
      "source": [
        "delhi_predictors, delhi_CO = co_data[columns], co_data['CO']"
      ]
    },
    {
      "cell_type": "code",
      "execution_count": null,
      "id": "df840523-4627-4c32-b024-012f9dbc325b",
      "metadata": {
        "id": "df840523-4627-4c32-b024-012f9dbc325b"
      },
      "outputs": [],
      "source": [
        "delhi_predictors_train, delhi_predictors_test, delhi_CO_train, delhi_CO_test = train_test_split(delhi_predictors, delhi_CO, test_size=0.3,random_state=seed)"
      ]
    },
    {
      "cell_type": "code",
      "execution_count": null,
      "id": "4579e67d-3fe7-4192-b1a9-864ccf97758f",
      "metadata": {
        "id": "4579e67d-3fe7-4192-b1a9-864ccf97758f",
        "outputId": "40a325f8-03f1-4d24-d127-9d86a0861e05"
      },
      "outputs": [
        {
          "name": "stdout",
          "output_type": "stream",
          "text": [
            "Best parameter (CV score=0.873):\n",
            "{'gbdt__min_samples_leaf': 15, 'gbdt__max_iter': 425, 'gbdt__max_depth': 6, 'gbdt__learning_rate': 0.09999999999999999}\n"
          ]
        }
      ],
      "source": [
        "gbdt= HistGradientBoostingRegressor(random_state=seed, n_iter_no_change=5, early_stopping=True)\n",
        "pipeline = Pipeline(steps=[ (\"gbdt\", gbdt)])\n",
        "params = {\n",
        "    \"gbdt__max_iter\": np.arange(100,500,25),\n",
        "    \"gbdt__learning_rate\": np.arange(0.01,0.1,0.03),\n",
        "    \"gbdt__max_depth\": np.arange(2,7,1),\n",
        "    \"gbdt__min_samples_leaf\": np.arange(1, 20, 1),\n",
        "}\n",
        "cv_gbdt = RepeatedKFold(n_splits=5, n_repeats=3, random_state=0)\n",
        "search = RandomizedSearchCV(pipeline, param_distributions=params, n_jobs=-1, cv=cv_gbdt, random_state=seed, n_iter = 500)\n",
        "search.fit(delhi_predictors_train, delhi_CO_train)\n",
        "print(\"Best parameter (CV score=%0.3f):\" % search.best_score_)\n",
        "print(search.best_params_)"
      ]
    },
    {
      "cell_type": "code",
      "execution_count": null,
      "id": "e64a067b-1781-458d-9185-d0e90038bfe0",
      "metadata": {
        "id": "e64a067b-1781-458d-9185-d0e90038bfe0"
      },
      "outputs": [],
      "source": [
        "params = {\n",
        "    \"gbdt__learning_rate\": [0.099],\n",
        "    \"gbdt__max_depth\": np.arange(4, 8, 1),\n",
        "    \"gbdt__min_samples_leaf\": np.arange(12, 18, 1),\n",
        "    \"gbdt__max_iter\": np.arange(375, 475, 25),\n",
        "}"
      ]
    },
    {
      "cell_type": "code",
      "execution_count": null,
      "id": "1f74fed6-bd38-4108-9fec-749c284cf799",
      "metadata": {
        "id": "1f74fed6-bd38-4108-9fec-749c284cf799",
        "outputId": "93286c0a-0d77-4866-9e98-7691474e84ae"
      },
      "outputs": [
        {
          "name": "stdout",
          "output_type": "stream",
          "text": [
            "{'gbdt__learning_rate': 0.099, 'gbdt__max_depth': 7, 'gbdt__max_iter': 450, 'gbdt__min_samples_leaf': 15}\n"
          ]
        }
      ],
      "source": [
        "grid_search = GridSearchCV(pipeline, param_grid=params, n_jobs=-1, cv=cv_gbdt)\n",
        "grid_search.fit(delhi_predictors_train, delhi_CO_train)\n",
        "print(grid_search.best_params_)"
      ]
    },
    {
      "cell_type": "code",
      "execution_count": null,
      "id": "5212caea-812a-4d25-84ad-d6458a8959a7",
      "metadata": {
        "id": "5212caea-812a-4d25-84ad-d6458a8959a7"
      },
      "outputs": [],
      "source": [
        "best_model = grid_search.best_estimator_"
      ]
    },
    {
      "cell_type": "code",
      "execution_count": null,
      "id": "50b5cbb0-4367-43eb-a3d5-98aeb00cd7d3",
      "metadata": {
        "id": "50b5cbb0-4367-43eb-a3d5-98aeb00cd7d3",
        "outputId": "1d1ad883-a246-47a2-be54-ebf934ac536b"
      },
      "outputs": [
        {
          "data": {
            "text/plain": [
              "['best_model_delhi_2025CO.joblib']"
            ]
          },
          "execution_count": 15,
          "metadata": {},
          "output_type": "execute_result"
        }
      ],
      "source": [
        "joblib.dump(best_model, 'best_model_delhi_2025CO.joblib')"
      ]
    },
    {
      "cell_type": "code",
      "execution_count": null,
      "id": "73726e9e-401e-49ac-8b02-67a742656753",
      "metadata": {
        "id": "73726e9e-401e-49ac-8b02-67a742656753",
        "outputId": "f233235d-f9bd-4b94-d524-b4950c3cf984"
      },
      "outputs": [
        {
          "name": "stdout",
          "output_type": "stream",
          "text": [
            "R2 score (train): 0.9320\n",
            "R2 score (test): 0.8834\n"
          ]
        }
      ],
      "source": [
        "print(f'R2 score (train): {best_model.score(delhi_predictors_train, delhi_CO_train):.4f}')\n",
        "print(f'R2 score (test): {best_model.score(delhi_predictors_test, delhi_CO_test):.4f}')"
      ]
    },
    {
      "cell_type": "code",
      "execution_count": null,
      "id": "db7512fd-b9a6-4ccb-a721-ca9d20c9ba2b",
      "metadata": {
        "id": "db7512fd-b9a6-4ccb-a721-ca9d20c9ba2b"
      },
      "outputs": [],
      "source": [
        "CO_prediction_test = best_model.predict(delhi_predictors_test)"
      ]
    },
    {
      "cell_type": "code",
      "execution_count": null,
      "id": "392c1fd2-8b76-49ab-b23d-836c6125aa9d",
      "metadata": {
        "id": "392c1fd2-8b76-49ab-b23d-836c6125aa9d"
      },
      "outputs": [],
      "source": [
        "predictions_df = pd.DataFrame({'Predicted_CO': CO_prediction_test})\n"
      ]
    },
    {
      "cell_type": "code",
      "execution_count": null,
      "id": "6034b66e-bb58-40b2-8dae-caef9dc123ff",
      "metadata": {
        "id": "6034b66e-bb58-40b2-8dae-caef9dc123ff"
      },
      "outputs": [],
      "source": [
        "predictions_df['Actual_CO'] = co_data.loc[delhi_predictors_test.index, 'CO'].values\n",
        "predictions_df['date'] = co_data.loc[delhi_predictors_test.index, 'date'].values"
      ]
    },
    {
      "cell_type": "code",
      "execution_count": null,
      "id": "d17d8103-cbc4-4662-acd5-2b81b3a031df",
      "metadata": {
        "id": "d17d8103-cbc4-4662-acd5-2b81b3a031df"
      },
      "outputs": [],
      "source": [
        "predictions_df.to_csv('delhi_CO_test_predictions_2025.csv', index=False)"
      ]
    },
    {
      "cell_type": "code",
      "execution_count": null,
      "id": "378-bf6wzLst",
      "metadata": {
        "id": "378-bf6wzLst"
      },
      "outputs": [],
      "source": [
        "delhi_predictors_train.to_csv(\"delhi_CO_predictors_train_2025.csv\", index=False)\n",
        "delhi_CO_train.to_csv(\"delhi_CO_train_2025.csv\", index=False)\n",
        "delhi_predictors_test.to_csv(\"delhi_CO_predictors_test_2025.csv\", index=False)\n",
        "delhi_CO_test.to_csv(\"delhi_CO_test_2025.csv\", index=False)"
      ]
    },
    {
      "cell_type": "code",
      "execution_count": null,
      "id": "f690e4c8-43a7-4431-8674-f5d2de2c02c0",
      "metadata": {
        "id": "f690e4c8-43a7-4431-8674-f5d2de2c02c0",
        "outputId": "d72f5055-541d-4f25-d2da-9094c07ea6cf"
      },
      "outputs": [
        {
          "name": "stdout",
          "output_type": "stream",
          "text": [
            "167.16841315131205 251.56342419264118 0.9213703543208134 PearsonRResult(statistic=0.9400831159482266, pvalue=0.0) 12.307726850594634\n"
          ]
        },
        {
          "name": "stderr",
          "output_type": "stream",
          "text": [
            "/home/ceew/anaconda3/lib/python3.12/site-packages/sklearn/metrics/_regression.py:483: FutureWarning: 'squared' is deprecated in version 1.4 and will be removed in 1.6. To calculate the root mean squared error, use the function'root_mean_squared_error'.\n",
            "  warnings.warn(\n"
          ]
        }
      ],
      "source": [
        "mae = mean_absolute_error(best_model.predict(delhi_predictors_test), delhi_CO_test)\n",
        "rmse = mean_squared_error(best_model.predict(delhi_predictors_test), delhi_CO_test, squared=False)\n",
        "mbe = np.mean(best_model.predict(delhi_predictors_test) - delhi_CO_test)\n",
        "r = pearsonr(best_model.predict(delhi_predictors_test), delhi_CO_test)\n",
        "mape = np.mean(np.abs((delhi_CO_test - best_model.predict(delhi_predictors_test)) / delhi_CO_test)) * 100\n",
        "print(mae, rmse, mbe, r, mape)"
      ]
    },
    {
      "cell_type": "code",
      "execution_count": null,
      "id": "ead707b7-60a9-43c8-8182-a657d1d6571f",
      "metadata": {
        "id": "ead707b7-60a9-43c8-8182-a657d1d6571f",
        "outputId": "08a13d69-2afb-4258-c4cf-b8301a2121e9"
      },
      "outputs": [
        {
          "data": {
            "text/plain": [
              "53327"
            ]
          },
          "execution_count": 38,
          "metadata": {},
          "output_type": "execute_result"
        }
      ],
      "source": [
        "nrows_data = len(co_data.index)"
      ]
    },
    {
      "cell_type": "code",
      "execution_count": null,
      "id": "7ac86f4f-75f4-4559-a30e-563222fec8e2",
      "metadata": {
        "id": "7ac86f4f-75f4-4559-a30e-563222fec8e2"
      },
      "outputs": [],
      "source": [
        "normalised_data = pd.DataFrame()\n",
        "for i in range(2000):\n",
        "    met_shuffled = delhi_predictors.drop(axis=1, columns=['date_unix','day_julian','weekday','hour']).sample(n=nrows_data).reset_index(drop=True);\n",
        "    met_shuffled[['date_unix','day_julian','weekday','hour']] = delhi_predictors[['date_unix','day_julian','weekday','hour']];\n",
        "    prediction_data = best_model.predict(met_shuffled[columns]);\n",
        "    normalised_data[i] = prediction_data;\n",
        "    if (i%100 == 0):\n",
        "        print(i)\n",
        "    warnings.filterwarnings('ignore')"
      ]
    },
    {
      "cell_type": "code",
      "execution_count": null,
      "id": "47f731df-cdf3-42fd-9e70-f665a0d7cdcd",
      "metadata": {
        "id": "47f731df-cdf3-42fd-9e70-f665a0d7cdcd"
      },
      "outputs": [],
      "source": [
        "mean_df = normalised_data.mean(axis=1).reset_index()\n",
        "mean_df.columns = ['Index', 'Mean_Value']"
      ]
    },
    {
      "cell_type": "code",
      "execution_count": null,
      "id": "bb05e104-ac24-4dbb-a06f-b786cba436c3",
      "metadata": {
        "id": "bb05e104-ac24-4dbb-a06f-b786cba436c3"
      },
      "outputs": [],
      "source": [
        "co_data.reset_index(drop=True, inplace=True)"
      ]
    },
    {
      "cell_type": "code",
      "execution_count": null,
      "id": "0012b1ab-0f0e-4c01-a7e1-91f81959e9c6",
      "metadata": {
        "id": "0012b1ab-0f0e-4c01-a7e1-91f81959e9c6"
      },
      "outputs": [],
      "source": [
        "co_data['deweathered_CO'] = mean_df['Mean_Value']\n",
        "co_data['date'] = pd.to_datetime(co_data['date'])\n",
        "co_data['met_CO'] = co_data['CO'] - co_data['deweathered_CO']"
      ]
    },
    {
      "cell_type": "code",
      "execution_count": null,
      "id": "76b1c4f2-ef26-4f41-80d2-80e54852f970",
      "metadata": {
        "id": "76b1c4f2-ef26-4f41-80d2-80e54852f970"
      },
      "outputs": [],
      "source": [
        "co_data.to_csv('DeweatheredCO_2018_2025.csv')"
      ]
    },
    {
      "cell_type": "code",
      "execution_count": null,
      "id": "0864745a-c288-40d7-ad27-c3b6d513cc27",
      "metadata": {
        "id": "0864745a-c288-40d7-ad27-c3b6d513cc27"
      },
      "outputs": [],
      "source": []
    },
    {
      "cell_type": "code",
      "execution_count": null,
      "id": "82def995-75f9-400a-b966-3c07a9ed2de3",
      "metadata": {
        "id": "82def995-75f9-400a-b966-3c07a9ed2de3"
      },
      "outputs": [],
      "source": []
    }
  ],
  "metadata": {
    "colab": {
      "provenance": []
    },
    "kernelspec": {
      "display_name": "Python 3 (ipykernel)",
      "language": "python",
      "name": "python3"
    },
    "language_info": {
      "codemirror_mode": {
        "name": "ipython",
        "version": 3
      },
      "file_extension": ".py",
      "mimetype": "text/x-python",
      "name": "python",
      "nbconvert_exporter": "python",
      "pygments_lexer": "ipython3",
      "version": "3.12.2"
    }
  },
  "nbformat": 4,
  "nbformat_minor": 5
}
