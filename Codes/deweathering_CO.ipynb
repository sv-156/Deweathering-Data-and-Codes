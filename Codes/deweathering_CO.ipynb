{
  "cells": [
    {
      "cell_type": "code",
      "execution_count": null,
      "id": "0cb181df-0e00-4de0-91f1-a53eccc79d78",
      "metadata": {
        "id": "0cb181df-0e00-4de0-91f1-a53eccc79d78"
      },
      "outputs": [],
      "source": [
        "import pandas as pd\n",
        "import numpy as np\n",
        "from sklearn.model_selection import RandomizedSearchCV\n",
        "from sklearn.model_selection import GridSearchCV\n",
        "from sklearn.ensemble import HistGradientBoostingRegressor\n",
        "from sklearn.pipeline import Pipeline\n",
        "import matplotlib.pyplot as plt\n",
        "import statsmodels.formula.api as smf\n",
        "from datetime import timedelta\n",
        "import joblib\n",
        "from datetime import date\n",
        "import ruptures as rpt\n",
        "import matplotlib.dates as mdates\n",
        "from matplotlib.dates import DateFormatter\n",
        "from sklearn.ensemble import GradientBoostingRegressor\n",
        "from sklearn.model_selection import train_test_split\n",
        "from sklearn.metrics import mean_squared_error\n",
        "from sklearn.metrics import mean_absolute_error\n",
        "import warnings\n",
        "from scipy.stats import pearsonr\n",
        "import os\n",
        "from sklearn.model_selection import RepeatedKFold\n",
        "from datetime import datetime, timedelta"
      ]
    },
    {
      "cell_type": "code",
      "execution_count": null,
      "id": "5872e6e2-f3c1-4a64-8268-5d850d7ec3ec",
      "metadata": {
        "id": "5872e6e2-f3c1-4a64-8268-5d850d7ec3ec"
      },
      "outputs": [],
      "source": [
        "co_data=pd.read_csv('CO_2018_2025.csv',index_col=0)"
      ]
    },
    {
      "cell_type": "code",
      "execution_count": null,
      "id": "7dfab53a-92a9-45a2-86ad-2361d55ae3b8",
      "metadata": {
        "id": "7dfab53a-92a9-45a2-86ad-2361d55ae3b8",
        "outputId": "0ddb530b-368e-44e8-90fe-607fbfd58ae7",
        "collapsed": true
      },
      "outputs": [
        {
          "data": {
            "text/html": [
              "<div>\n",
              "<style scoped>\n",
              "    .dataframe tbody tr th:only-of-type {\n",
              "        vertical-align: middle;\n",
              "    }\n",
              "\n",
              "    .dataframe tbody tr th {\n",
              "        vertical-align: top;\n",
              "    }\n",
              "\n",
              "    .dataframe thead th {\n",
              "        text-align: right;\n",
              "    }\n",
              "</style>\n",
              "<table border=\"1\" class=\"dataframe\">\n",
              "  <thead>\n",
              "    <tr style=\"text-align: right;\">\n",
              "      <th></th>\n",
              "      <th>city</th>\n",
              "      <th>date</th>\n",
              "      <th>t2m</th>\n",
              "      <th>wd</th>\n",
              "      <th>ws</th>\n",
              "      <th>rh</th>\n",
              "      <th>msl</th>\n",
              "      <th>mtpr</th>\n",
              "      <th>blh</th>\n",
              "      <th>tcc</th>\n",
              "      <th>...</th>\n",
              "      <th>total_stations</th>\n",
              "      <th>percentage_data</th>\n",
              "      <th>CO</th>\n",
              "      <th>day_julian</th>\n",
              "      <th>hour</th>\n",
              "      <th>weekday</th>\n",
              "      <th>date_unix</th>\n",
              "      <th>year</th>\n",
              "      <th>week</th>\n",
              "      <th>month</th>\n",
              "    </tr>\n",
              "  </thead>\n",
              "  <tbody>\n",
              "    <tr>\n",
              "      <th>0</th>\n",
              "      <td>Delhi</td>\n",
              "      <td>2018-05-01 00:00:00</td>\n",
              "      <td>303.04544</td>\n",
              "      <td>117.600290</td>\n",
              "      <td>4.840165</td>\n",
              "      <td>52.410230</td>\n",
              "      <td>100260.090</td>\n",
              "      <td>0.000000</td>\n",
              "      <td>353.387880</td>\n",
              "      <td>0.250568</td>\n",
              "      <td>...</td>\n",
              "      <td>31</td>\n",
              "      <td>93.548387</td>\n",
              "      <td>678.103448</td>\n",
              "      <td>121</td>\n",
              "      <td>0</td>\n",
              "      <td>2</td>\n",
              "      <td>1525132800</td>\n",
              "      <td>2018</td>\n",
              "      <td>18</td>\n",
              "      <td>5</td>\n",
              "    </tr>\n",
              "    <tr>\n",
              "      <th>1</th>\n",
              "      <td>Delhi</td>\n",
              "      <td>2018-05-01 01:00:00</td>\n",
              "      <td>303.00570</td>\n",
              "      <td>114.175705</td>\n",
              "      <td>5.031793</td>\n",
              "      <td>52.974354</td>\n",
              "      <td>100269.340</td>\n",
              "      <td>0.000000</td>\n",
              "      <td>358.905120</td>\n",
              "      <td>0.006760</td>\n",
              "      <td>...</td>\n",
              "      <td>31</td>\n",
              "      <td>93.548387</td>\n",
              "      <td>674.051724</td>\n",
              "      <td>121</td>\n",
              "      <td>1</td>\n",
              "      <td>2</td>\n",
              "      <td>1525136400</td>\n",
              "      <td>2018</td>\n",
              "      <td>18</td>\n",
              "      <td>5</td>\n",
              "    </tr>\n",
              "    <tr>\n",
              "      <th>2</th>\n",
              "      <td>Delhi</td>\n",
              "      <td>2018-05-01 02:00:00</td>\n",
              "      <td>301.43796</td>\n",
              "      <td>113.780530</td>\n",
              "      <td>5.025594</td>\n",
              "      <td>57.611480</td>\n",
              "      <td>100237.650</td>\n",
              "      <td>0.000000</td>\n",
              "      <td>367.615900</td>\n",
              "      <td>0.000000</td>\n",
              "      <td>...</td>\n",
              "      <td>31</td>\n",
              "      <td>87.096774</td>\n",
              "      <td>382.685185</td>\n",
              "      <td>121</td>\n",
              "      <td>2</td>\n",
              "      <td>2</td>\n",
              "      <td>1525140000</td>\n",
              "      <td>2018</td>\n",
              "      <td>18</td>\n",
              "      <td>5</td>\n",
              "    </tr>\n",
              "    <tr>\n",
              "      <th>3</th>\n",
              "      <td>Delhi</td>\n",
              "      <td>2018-05-01 03:00:00</td>\n",
              "      <td>301.22278</td>\n",
              "      <td>114.315560</td>\n",
              "      <td>4.859068</td>\n",
              "      <td>58.139008</td>\n",
              "      <td>100258.430</td>\n",
              "      <td>0.000000</td>\n",
              "      <td>387.548000</td>\n",
              "      <td>0.000847</td>\n",
              "      <td>...</td>\n",
              "      <td>31</td>\n",
              "      <td>90.322581</td>\n",
              "      <td>553.214286</td>\n",
              "      <td>121</td>\n",
              "      <td>3</td>\n",
              "      <td>2</td>\n",
              "      <td>1525143600</td>\n",
              "      <td>2018</td>\n",
              "      <td>18</td>\n",
              "      <td>5</td>\n",
              "    </tr>\n",
              "    <tr>\n",
              "      <th>4</th>\n",
              "      <td>Delhi</td>\n",
              "      <td>2018-05-01 04:00:00</td>\n",
              "      <td>299.54980</td>\n",
              "      <td>109.940125</td>\n",
              "      <td>4.769044</td>\n",
              "      <td>67.338030</td>\n",
              "      <td>100229.664</td>\n",
              "      <td>0.000000</td>\n",
              "      <td>408.764530</td>\n",
              "      <td>0.413689</td>\n",
              "      <td>...</td>\n",
              "      <td>31</td>\n",
              "      <td>90.322581</td>\n",
              "      <td>575.565476</td>\n",
              "      <td>121</td>\n",
              "      <td>4</td>\n",
              "      <td>2</td>\n",
              "      <td>1525147200</td>\n",
              "      <td>2018</td>\n",
              "      <td>18</td>\n",
              "      <td>5</td>\n",
              "    </tr>\n",
              "    <tr>\n",
              "      <th>...</th>\n",
              "      <td>...</td>\n",
              "      <td>...</td>\n",
              "      <td>...</td>\n",
              "      <td>...</td>\n",
              "      <td>...</td>\n",
              "      <td>...</td>\n",
              "      <td>...</td>\n",
              "      <td>...</td>\n",
              "      <td>...</td>\n",
              "      <td>...</td>\n",
              "      <td>...</td>\n",
              "      <td>...</td>\n",
              "      <td>...</td>\n",
              "      <td>...</td>\n",
              "      <td>...</td>\n",
              "      <td>...</td>\n",
              "      <td>...</td>\n",
              "      <td>...</td>\n",
              "      <td>...</td>\n",
              "      <td>...</td>\n",
              "      <td>...</td>\n",
              "    </tr>\n",
              "    <tr>\n",
              "      <th>53322</th>\n",
              "      <td>Delhi</td>\n",
              "      <td>2025-02-28 19:00:00</td>\n",
              "      <td>296.92212</td>\n",
              "      <td>146.961140</td>\n",
              "      <td>2.137012</td>\n",
              "      <td>71.840230</td>\n",
              "      <td>100983.160</td>\n",
              "      <td>6.123161</td>\n",
              "      <td>80.548645</td>\n",
              "      <td>0.196472</td>\n",
              "      <td>...</td>\n",
              "      <td>31</td>\n",
              "      <td>87.096774</td>\n",
              "      <td>1251.505141</td>\n",
              "      <td>59</td>\n",
              "      <td>19</td>\n",
              "      <td>5</td>\n",
              "      <td>1740769200</td>\n",
              "      <td>2025</td>\n",
              "      <td>9</td>\n",
              "      <td>2</td>\n",
              "    </tr>\n",
              "    <tr>\n",
              "      <th>53323</th>\n",
              "      <td>Delhi</td>\n",
              "      <td>2025-02-28 20:00:00</td>\n",
              "      <td>294.63245</td>\n",
              "      <td>129.123210</td>\n",
              "      <td>2.125412</td>\n",
              "      <td>83.814804</td>\n",
              "      <td>101042.550</td>\n",
              "      <td>26.186085</td>\n",
              "      <td>68.574000</td>\n",
              "      <td>0.193956</td>\n",
              "      <td>...</td>\n",
              "      <td>31</td>\n",
              "      <td>87.096774</td>\n",
              "      <td>1284.409621</td>\n",
              "      <td>59</td>\n",
              "      <td>20</td>\n",
              "      <td>5</td>\n",
              "      <td>1740772800</td>\n",
              "      <td>2025</td>\n",
              "      <td>9</td>\n",
              "      <td>2</td>\n",
              "    </tr>\n",
              "    <tr>\n",
              "      <th>53324</th>\n",
              "      <td>Delhi</td>\n",
              "      <td>2025-02-28 21:00:00</td>\n",
              "      <td>293.02722</td>\n",
              "      <td>118.093590</td>\n",
              "      <td>2.470502</td>\n",
              "      <td>94.192890</td>\n",
              "      <td>101149.810</td>\n",
              "      <td>37.578392</td>\n",
              "      <td>85.552390</td>\n",
              "      <td>0.239538</td>\n",
              "      <td>...</td>\n",
              "      <td>31</td>\n",
              "      <td>90.322581</td>\n",
              "      <td>1327.028504</td>\n",
              "      <td>59</td>\n",
              "      <td>21</td>\n",
              "      <td>5</td>\n",
              "      <td>1740776400</td>\n",
              "      <td>2025</td>\n",
              "      <td>9</td>\n",
              "      <td>2</td>\n",
              "    </tr>\n",
              "    <tr>\n",
              "      <th>53325</th>\n",
              "      <td>Delhi</td>\n",
              "      <td>2025-02-28 22:00:00</td>\n",
              "      <td>292.87674</td>\n",
              "      <td>102.703950</td>\n",
              "      <td>2.995194</td>\n",
              "      <td>94.603000</td>\n",
              "      <td>101226.080</td>\n",
              "      <td>19.602442</td>\n",
              "      <td>118.071700</td>\n",
              "      <td>0.249462</td>\n",
              "      <td>...</td>\n",
              "      <td>31</td>\n",
              "      <td>90.322581</td>\n",
              "      <td>1292.976195</td>\n",
              "      <td>59</td>\n",
              "      <td>22</td>\n",
              "      <td>5</td>\n",
              "      <td>1740780000</td>\n",
              "      <td>2025</td>\n",
              "      <td>9</td>\n",
              "      <td>2</td>\n",
              "    </tr>\n",
              "    <tr>\n",
              "      <th>53326</th>\n",
              "      <td>Delhi</td>\n",
              "      <td>2025-02-28 23:00:00</td>\n",
              "      <td>292.01678</td>\n",
              "      <td>84.206470</td>\n",
              "      <td>3.412571</td>\n",
              "      <td>95.349730</td>\n",
              "      <td>101277.234</td>\n",
              "      <td>9.451675</td>\n",
              "      <td>173.704960</td>\n",
              "      <td>0.323917</td>\n",
              "      <td>...</td>\n",
              "      <td>31</td>\n",
              "      <td>90.322581</td>\n",
              "      <td>1265.871352</td>\n",
              "      <td>59</td>\n",
              "      <td>23</td>\n",
              "      <td>5</td>\n",
              "      <td>1740783600</td>\n",
              "      <td>2025</td>\n",
              "      <td>9</td>\n",
              "      <td>2</td>\n",
              "    </tr>\n",
              "  </tbody>\n",
              "</table>\n",
              "<p>53327 rows × 21 columns</p>\n",
              "</div>"
            ],
            "text/plain": [
              "        city                 date        t2m          wd        ws         rh  \\\n",
              "0      Delhi  2018-05-01 00:00:00  303.04544  117.600290  4.840165  52.410230   \n",
              "1      Delhi  2018-05-01 01:00:00  303.00570  114.175705  5.031793  52.974354   \n",
              "2      Delhi  2018-05-01 02:00:00  301.43796  113.780530  5.025594  57.611480   \n",
              "3      Delhi  2018-05-01 03:00:00  301.22278  114.315560  4.859068  58.139008   \n",
              "4      Delhi  2018-05-01 04:00:00  299.54980  109.940125  4.769044  67.338030   \n",
              "...      ...                  ...        ...         ...       ...        ...   \n",
              "53322  Delhi  2025-02-28 19:00:00  296.92212  146.961140  2.137012  71.840230   \n",
              "53323  Delhi  2025-02-28 20:00:00  294.63245  129.123210  2.125412  83.814804   \n",
              "53324  Delhi  2025-02-28 21:00:00  293.02722  118.093590  2.470502  94.192890   \n",
              "53325  Delhi  2025-02-28 22:00:00  292.87674  102.703950  2.995194  94.603000   \n",
              "53326  Delhi  2025-02-28 23:00:00  292.01678   84.206470  3.412571  95.349730   \n",
              "\n",
              "              msl       mtpr         blh       tcc  ...  total_stations  \\\n",
              "0      100260.090   0.000000  353.387880  0.250568  ...              31   \n",
              "1      100269.340   0.000000  358.905120  0.006760  ...              31   \n",
              "2      100237.650   0.000000  367.615900  0.000000  ...              31   \n",
              "3      100258.430   0.000000  387.548000  0.000847  ...              31   \n",
              "4      100229.664   0.000000  408.764530  0.413689  ...              31   \n",
              "...           ...        ...         ...       ...  ...             ...   \n",
              "53322  100983.160   6.123161   80.548645  0.196472  ...              31   \n",
              "53323  101042.550  26.186085   68.574000  0.193956  ...              31   \n",
              "53324  101149.810  37.578392   85.552390  0.239538  ...              31   \n",
              "53325  101226.080  19.602442  118.071700  0.249462  ...              31   \n",
              "53326  101277.234   9.451675  173.704960  0.323917  ...              31   \n",
              "\n",
              "       percentage_data           CO  day_julian  hour  weekday   date_unix  \\\n",
              "0            93.548387   678.103448         121     0        2  1525132800   \n",
              "1            93.548387   674.051724         121     1        2  1525136400   \n",
              "2            87.096774   382.685185         121     2        2  1525140000   \n",
              "3            90.322581   553.214286         121     3        2  1525143600   \n",
              "4            90.322581   575.565476         121     4        2  1525147200   \n",
              "...                ...          ...         ...   ...      ...         ...   \n",
              "53322        87.096774  1251.505141          59    19        5  1740769200   \n",
              "53323        87.096774  1284.409621          59    20        5  1740772800   \n",
              "53324        90.322581  1327.028504          59    21        5  1740776400   \n",
              "53325        90.322581  1292.976195          59    22        5  1740780000   \n",
              "53326        90.322581  1265.871352          59    23        5  1740783600   \n",
              "\n",
              "       year  week  month  \n",
              "0      2018    18      5  \n",
              "1      2018    18      5  \n",
              "2      2018    18      5  \n",
              "3      2018    18      5  \n",
              "4      2018    18      5  \n",
              "...     ...   ...    ...  \n",
              "53322  2025     9      2  \n",
              "53323  2025     9      2  \n",
              "53324  2025     9      2  \n",
              "53325  2025     9      2  \n",
              "53326  2025     9      2  \n",
              "\n",
              "[53327 rows x 21 columns]"
            ]
          },
          "execution_count": 5,
          "metadata": {},
          "output_type": "execute_result"
        }
      ],
      "source": [
        "co_data=co_data.dropna()"
      ]
    },
    {
      "cell_type": "code",
      "execution_count": null,
      "id": "d9c8f120-c5ad-48a9-9ce7-15becb29bd35",
      "metadata": {
        "id": "d9c8f120-c5ad-48a9-9ce7-15becb29bd35"
      },
      "outputs": [],
      "source": [
        "seed = np.random.RandomState(0)"
      ]
    },
    {
      "cell_type": "code",
      "execution_count": null,
      "id": "4130fde8-4784-4c3d-873e-ec3fcbdae69a",
      "metadata": {
        "id": "4130fde8-4784-4c3d-873e-ec3fcbdae69a"
      },
      "outputs": [],
      "source": [
        "columns = ['t2m','msl','blh','ssr','mtpr','tcc','wd','ws','rh','hour','day_julian','weekday','date_unix']"
      ]
    },
    {
      "cell_type": "code",
      "execution_count": null,
      "id": "7124613c-a05a-4f98-abc1-52418810c72f",
      "metadata": {
        "id": "7124613c-a05a-4f98-abc1-52418810c72f"
      },
      "outputs": [],
      "source": [
        "delhi_predictors, delhi_CO = co_data[columns], co_data['CO']"
      ]
    },
    {
      "cell_type": "code",
      "execution_count": null,
      "id": "df840523-4627-4c32-b024-012f9dbc325b",
      "metadata": {
        "id": "df840523-4627-4c32-b024-012f9dbc325b"
      },
      "outputs": [],
      "source": [
        "delhi_predictors_train, delhi_predictors_test, delhi_CO_train, delhi_CO_test = train_test_split(delhi_predictors, delhi_CO, test_size=0.3,random_state=seed)"
      ]
    },
    {
      "cell_type": "code",
      "execution_count": null,
      "id": "4579e67d-3fe7-4192-b1a9-864ccf97758f",
      "metadata": {
        "id": "4579e67d-3fe7-4192-b1a9-864ccf97758f",
        "outputId": "40a325f8-03f1-4d24-d127-9d86a0861e05"
      },
      "outputs": [
        {
          "name": "stdout",
          "output_type": "stream",
          "text": [
            "Best parameter (CV score=0.873):\n",
            "{'gbdt__min_samples_leaf': 15, 'gbdt__max_iter': 425, 'gbdt__max_depth': 6, 'gbdt__learning_rate': 0.09999999999999999}\n"
          ]
        }
      ],
      "source": [
        "gbdt= HistGradientBoostingRegressor(random_state=seed, n_iter_no_change=5, early_stopping=True)\n",
        "pipeline = Pipeline(steps=[ (\"gbdt\", gbdt)])\n",
        "params = {\n",
        "    \"gbdt__max_iter\": np.arange(100,500,25),\n",
        "    \"gbdt__learning_rate\": np.arange(0.01,0.1,0.03),\n",
        "    \"gbdt__max_depth\": np.arange(2,7,1),\n",
        "    \"gbdt__min_samples_leaf\": np.arange(1, 20, 1),\n",
        "}\n",
        "cv_gbdt = RepeatedKFold(n_splits=5, n_repeats=3, random_state=0)\n",
        "search = RandomizedSearchCV(pipeline, param_distributions=params, n_jobs=-1, cv=cv_gbdt, random_state=seed, n_iter = 500)\n",
        "search.fit(delhi_predictors_train, delhi_CO_train)\n",
        "print(\"Best parameter (CV score=%0.3f):\" % search.best_score_)\n",
        "print(search.best_params_)"
      ]
    },
    {
      "cell_type": "code",
      "execution_count": null,
      "id": "e64a067b-1781-458d-9185-d0e90038bfe0",
      "metadata": {
        "id": "e64a067b-1781-458d-9185-d0e90038bfe0"
      },
      "outputs": [],
      "source": [
        "params = {\n",
        "    \"gbdt__learning_rate\": [0.099],\n",
        "    \"gbdt__max_depth\": np.arange(4, 8, 1),\n",
        "    \"gbdt__min_samples_leaf\": np.arange(12, 18, 1),\n",
        "    \"gbdt__max_iter\": np.arange(375, 475, 25),\n",
        "}"
      ]
    },
    {
      "cell_type": "code",
      "execution_count": null,
      "id": "1f74fed6-bd38-4108-9fec-749c284cf799",
      "metadata": {
        "id": "1f74fed6-bd38-4108-9fec-749c284cf799",
        "outputId": "93286c0a-0d77-4866-9e98-7691474e84ae"
      },
      "outputs": [
        {
          "name": "stdout",
          "output_type": "stream",
          "text": [
            "{'gbdt__learning_rate': 0.099, 'gbdt__max_depth': 7, 'gbdt__max_iter': 450, 'gbdt__min_samples_leaf': 15}\n"
          ]
        }
      ],
      "source": [
        "grid_search = GridSearchCV(pipeline, param_grid=params, n_jobs=-1, cv=cv_gbdt)\n",
        "grid_search.fit(delhi_predictors_train, delhi_CO_train)\n",
        "print(grid_search.best_params_)"
      ]
    },
    {
      "cell_type": "code",
      "execution_count": null,
      "id": "5212caea-812a-4d25-84ad-d6458a8959a7",
      "metadata": {
        "id": "5212caea-812a-4d25-84ad-d6458a8959a7"
      },
      "outputs": [],
      "source": [
        "best_model = grid_search.best_estimator_"
      ]
    },
    {
      "cell_type": "code",
      "execution_count": null,
      "id": "50b5cbb0-4367-43eb-a3d5-98aeb00cd7d3",
      "metadata": {
        "id": "50b5cbb0-4367-43eb-a3d5-98aeb00cd7d3",
        "outputId": "1d1ad883-a246-47a2-be54-ebf934ac536b"
      },
      "outputs": [
        {
          "data": {
            "text/plain": [
              "['best_model_delhi_2025CO.joblib']"
            ]
          },
          "execution_count": 15,
          "metadata": {},
          "output_type": "execute_result"
        }
      ],
      "source": [
        "joblib.dump(best_model, 'best_model_delhi_2025CO.joblib')"
      ]
    },
    {
      "cell_type": "code",
      "execution_count": null,
      "id": "73726e9e-401e-49ac-8b02-67a742656753",
      "metadata": {
        "id": "73726e9e-401e-49ac-8b02-67a742656753",
        "outputId": "f233235d-f9bd-4b94-d524-b4950c3cf984"
      },
      "outputs": [
        {
          "name": "stdout",
          "output_type": "stream",
          "text": [
            "R2 score (train): 0.9320\n",
            "R2 score (test): 0.8834\n"
          ]
        }
      ],
      "source": [
        "print(f'R2 score (train): {best_model.score(delhi_predictors_train, delhi_CO_train):.4f}')\n",
        "print(f'R2 score (test): {best_model.score(delhi_predictors_test, delhi_CO_test):.4f}')"
      ]
    },
    {
      "cell_type": "code",
      "execution_count": null,
      "id": "db7512fd-b9a6-4ccb-a721-ca9d20c9ba2b",
      "metadata": {
        "id": "db7512fd-b9a6-4ccb-a721-ca9d20c9ba2b"
      },
      "outputs": [],
      "source": [
        "CO_prediction_test = best_model.predict(delhi_predictors_test)"
      ]
    },
    {
      "cell_type": "code",
      "execution_count": null,
      "id": "392c1fd2-8b76-49ab-b23d-836c6125aa9d",
      "metadata": {
        "id": "392c1fd2-8b76-49ab-b23d-836c6125aa9d"
      },
      "outputs": [],
      "source": [
        "predictions_df = pd.DataFrame({'Predicted_CO': CO_prediction_test})\n"
      ]
    },
    {
      "cell_type": "code",
      "execution_count": null,
      "id": "6034b66e-bb58-40b2-8dae-caef9dc123ff",
      "metadata": {
        "id": "6034b66e-bb58-40b2-8dae-caef9dc123ff"
      },
      "outputs": [],
      "source": [
        "predictions_df['Actual_CO'] = co_data.loc[delhi_predictors_test.index, 'CO'].values\n",
        "predictions_df['date'] = co_data.loc[delhi_predictors_test.index, 'date'].values"
      ]
    },
    {
      "cell_type": "code",
      "execution_count": null,
      "id": "d17d8103-cbc4-4662-acd5-2b81b3a031df",
      "metadata": {
        "id": "d17d8103-cbc4-4662-acd5-2b81b3a031df"
      },
      "outputs": [],
      "source": [
        "predictions_df.to_csv('delhi_CO_test_predictions_2025.csv', index=False)"
      ]
    },
    {
      "cell_type": "code",
      "execution_count": null,
      "id": "378-bf6wzLst",
      "metadata": {
        "id": "378-bf6wzLst"
      },
      "outputs": [],
      "source": [
        "delhi_predictors_train.to_csv(\"delhi_CO_predictors_train_2025.csv\", index=False)\n",
        "delhi_CO_train.to_csv(\"delhi_CO_train_2025.csv\", index=False)\n",
        "delhi_predictors_test.to_csv(\"delhi_CO_predictors_test_2025.csv\", index=False)\n",
        "delhi_CO_test.to_csv(\"delhi_CO_test_2025.csv\", index=False)"
      ]
    },
    {
      "cell_type": "code",
      "execution_count": null,
      "id": "f690e4c8-43a7-4431-8674-f5d2de2c02c0",
      "metadata": {
        "id": "f690e4c8-43a7-4431-8674-f5d2de2c02c0",
        "outputId": "d72f5055-541d-4f25-d2da-9094c07ea6cf"
      },
      "outputs": [
        {
          "name": "stdout",
          "output_type": "stream",
          "text": [
            "167.16841315131205 251.56342419264118 0.9213703543208134 PearsonRResult(statistic=0.9400831159482266, pvalue=0.0) 12.307726850594634\n"
          ]
        },
        {
          "name": "stderr",
          "output_type": "stream",
          "text": [
            "/home/ceew/anaconda3/lib/python3.12/site-packages/sklearn/metrics/_regression.py:483: FutureWarning: 'squared' is deprecated in version 1.4 and will be removed in 1.6. To calculate the root mean squared error, use the function'root_mean_squared_error'.\n",
            "  warnings.warn(\n"
          ]
        }
      ],
      "source": [
        "mae = mean_absolute_error(best_model.predict(delhi_predictors_test), delhi_CO_test)\n",
        "rmse = mean_squared_error(best_model.predict(delhi_predictors_test), delhi_CO_test, squared=False)\n",
        "mbe = np.mean(best_model.predict(delhi_predictors_test) - delhi_CO_test)\n",
        "r = pearsonr(best_model.predict(delhi_predictors_test), delhi_CO_test)\n",
        "mape = np.mean(np.abs((delhi_CO_test - best_model.predict(delhi_predictors_test)) / delhi_CO_test)) * 100\n",
        "print(mae, rmse, mbe, r, mape)"
      ]
    },
    {
      "cell_type": "code",
      "execution_count": null,
      "id": "ead707b7-60a9-43c8-8182-a657d1d6571f",
      "metadata": {
        "id": "ead707b7-60a9-43c8-8182-a657d1d6571f",
        "outputId": "08a13d69-2afb-4258-c4cf-b8301a2121e9"
      },
      "outputs": [
        {
          "data": {
            "text/plain": [
              "53327"
            ]
          },
          "execution_count": 38,
          "metadata": {},
          "output_type": "execute_result"
        }
      ],
      "source": [
        "nrows_data = len(co_data.index)"
      ]
    },
    {
      "cell_type": "code",
      "execution_count": null,
      "id": "7ac86f4f-75f4-4559-a30e-563222fec8e2",
      "metadata": {
        "id": "7ac86f4f-75f4-4559-a30e-563222fec8e2"
      },
      "outputs": [],
      "source": [
        "normalised_data = pd.DataFrame()\n",
        "for i in range(2000):\n",
        "    met_shuffled = delhi_predictors.drop(axis=1, columns=['date_unix','day_julian','weekday','hour']).sample(n=nrows_data).reset_index(drop=True);\n",
        "    met_shuffled[['date_unix','day_julian','weekday','hour']] = delhi_predictors[['date_unix','day_julian','weekday','hour']];\n",
        "    prediction_data = best_model.predict(met_shuffled[columns]);\n",
        "    normalised_data[i] = prediction_data;\n",
        "    if (i%100 == 0):\n",
        "        print(i)\n",
        "    warnings.filterwarnings('ignore')"
      ]
    },
    {
      "cell_type": "code",
      "execution_count": null,
      "id": "47f731df-cdf3-42fd-9e70-f665a0d7cdcd",
      "metadata": {
        "id": "47f731df-cdf3-42fd-9e70-f665a0d7cdcd"
      },
      "outputs": [],
      "source": [
        "mean_df = normalised_data.mean(axis=1).reset_index()\n",
        "mean_df.columns = ['Index', 'Mean_Value']"
      ]
    },
    {
      "cell_type": "code",
      "execution_count": null,
      "id": "bb05e104-ac24-4dbb-a06f-b786cba436c3",
      "metadata": {
        "id": "bb05e104-ac24-4dbb-a06f-b786cba436c3"
      },
      "outputs": [],
      "source": [
        "co_data.reset_index(drop=True, inplace=True)"
      ]
    },
    {
      "cell_type": "code",
      "execution_count": null,
      "id": "0012b1ab-0f0e-4c01-a7e1-91f81959e9c6",
      "metadata": {
        "id": "0012b1ab-0f0e-4c01-a7e1-91f81959e9c6"
      },
      "outputs": [],
      "source": [
        "co_data['deweathered_CO'] = mean_df['Mean_Value']\n",
        "co_data['date'] = pd.to_datetime(co_data['date'])\n",
        "co_data['met_CO'] = co_data['CO'] - co_data['deweathered_CO']"
      ]
    },
    {
      "cell_type": "code",
      "execution_count": null,
      "id": "76b1c4f2-ef26-4f41-80d2-80e54852f970",
      "metadata": {
        "id": "76b1c4f2-ef26-4f41-80d2-80e54852f970"
      },
      "outputs": [],
      "source": [
        "co_data.to_csv('DeweatheredCO_2018_2025.csv')"
      ]
    },
    {
      "cell_type": "code",
      "execution_count": null,
      "id": "0864745a-c288-40d7-ad27-c3b6d513cc27",
      "metadata": {
        "id": "0864745a-c288-40d7-ad27-c3b6d513cc27"
      },
      "outputs": [],
      "source": []
    },
    {
      "cell_type": "code",
      "execution_count": null,
      "id": "82def995-75f9-400a-b966-3c07a9ed2de3",
      "metadata": {
        "id": "82def995-75f9-400a-b966-3c07a9ed2de3"
      },
      "outputs": [],
      "source": []
    }
  ],
  "metadata": {
    "colab": {
      "provenance": []
    },
    "kernelspec": {
      "display_name": "Python 3 (ipykernel)",
      "language": "python",
      "name": "python3"
    },
    "language_info": {
      "codemirror_mode": {
        "name": "ipython",
        "version": 3
      },
      "file_extension": ".py",
      "mimetype": "text/x-python",
      "name": "python",
      "nbconvert_exporter": "python",
      "pygments_lexer": "ipython3",
      "version": "3.12.2"
    }
  },
  "nbformat": 4,
  "nbformat_minor": 5
}